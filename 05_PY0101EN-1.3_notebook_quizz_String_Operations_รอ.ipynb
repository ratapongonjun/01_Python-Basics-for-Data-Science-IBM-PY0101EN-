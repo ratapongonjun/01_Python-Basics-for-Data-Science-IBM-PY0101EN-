{
  "cells": [
    {
      "metadata": {},
      "cell_type": "markdown",
      "source": "<h3 align=center>Slicing </h3>"
    },
    {
      "metadata": {},
      "cell_type": "markdown",
      "source": "Use slicing to find the first four elements of the following string:"
    },
    {
      "metadata": {
        "trusted": true
      },
      "cell_type": "code",
      "source": "Letters=\"ABCDEFGHIJK\"",
      "execution_count": 3,
      "outputs": []
    },
    {
      "metadata": {},
      "cell_type": "markdown",
      "source": "<h3 align=center>Strides are Good </h3> "
    },
    {
      "metadata": {},
      "cell_type": "markdown",
      "source": "Use a stride value of two on the following string :"
    },
    {
      "metadata": {
        "trusted": true
      },
      "cell_type": "code",
      "source": "Good=\"GsoAo+d\"",
      "execution_count": 2,
      "outputs": []
    },
    {
      "metadata": {},
      "cell_type": "markdown",
      "source": "<h3 align=center>uppercase to UPPERCASE </h3> "
    },
    {
      "metadata": {},
      "cell_type": "markdown",
      "source": "Convert the following string to uppercase using the method <code>upper()</code>"
    },
    {
      "metadata": {
        "trusted": false
      },
      "cell_type": "code",
      "source": "\"uppercase\"",
      "execution_count": null,
      "outputs": []
    },
    {
      "metadata": {},
      "cell_type": "markdown",
      "source": "<hr>\n<small>Copyright &copy; 2018 IBM Cognitive Class. This notebook and its source code are released under the terms of the [MIT License](https://cognitiveclass.ai/mit-license/).</small>"
    }
  ],
  "metadata": {
    "kernelspec": {
      "name": "python3",
      "display_name": "Python 3",
      "language": "python"
    },
    "language_info": {
      "mimetype": "text/x-python",
      "nbconvert_exporter": "python",
      "name": "python",
      "file_extension": ".py",
      "version": "3.5.4",
      "pygments_lexer": "ipython3",
      "codemirror_mode": {
        "version": 3,
        "name": "ipython"
      }
    }
  },
  "nbformat": 4,
  "nbformat_minor": 2
}