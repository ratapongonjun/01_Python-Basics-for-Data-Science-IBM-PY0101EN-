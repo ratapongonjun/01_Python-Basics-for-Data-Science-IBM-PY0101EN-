{
  "cells": [
    {
      "metadata": {},
      "cell_type": "markdown",
      "source": "<h3 align=center>Hello World</h3>"
    },
    {
      "metadata": {},
      "cell_type": "markdown",
      "source": "Let's say Hello to the world with a <code>PRINT</code> statement. E.g. <code>print(\"Hello World\")</code>. Why not give it a try put in a print statement in the cell bellow. Don't forget to do <kbd>shift</kdb>+<kbd>enter</kbd> to run the cell:"
    },
    {
      "metadata": {
        "trusted": false
      },
      "cell_type": "code",
      "source": "print(\"Hello BOOMSUT\")",
      "execution_count": 1,
      "outputs": [
        {
          "name": "stdout",
          "output_type": "stream",
          "text": "Hello BOOMSUT\n"
        }
      ]
    },
    {
      "metadata": {},
      "cell_type": "markdown",
      "source": "<h3 align=center>Say Hello World on two lines</h3> "
    },
    {
      "metadata": {},
      "cell_type": "markdown",
      "source": "Let's print Hello and World on two separate lines. Hint: \\n in the middle of the string acts as a new line character. E.g. <code>print(\"line 1\\nline 2\")</code>. Let's try it now. Type in a print statement in the cell bellow. Don't forget to do <kbd>shift</kdb>+<kbd>enter</kbd> to run the cell:"
    },
    {
      "metadata": {
        "trusted": false
      },
      "cell_type": "code",
      "source": "print(\"Hello BOOMSUT\\nHello BOOMSUT\")",
      "execution_count": 2,
      "outputs": [
        {
          "name": "stdout",
          "output_type": "stream",
          "text": "Hello BOOMSUT\nHello BOOMSUT\n"
        }
      ]
    },
    {
      "metadata": {},
      "cell_type": "markdown",
      "source": "<h3 align=center>Comments are key to good coding</h3> "
    },
    {
      "metadata": {},
      "cell_type": "markdown",
      "source": "In python, comments are created by putting a hash mark <code>#</code> in front of the text of the comment. E.g. <code># this is a comment</code>"
    },
    {
      "metadata": {
        "trusted": false
      },
      "cell_type": "code",
      "source": "# this is my comments",
      "execution_count": 3,
      "outputs": []
    },
    {
      "metadata": {},
      "cell_type": "markdown",
      "source": "<hr>\n<small>Copyright &copy; 2018 IBM Cognitive Class. This notebook and its source code are released under the terms of the [MIT License](https://cognitiveclass.ai/mit-license/).</small>"
    },
    {
      "metadata": {
        "trusted": false
      },
      "cell_type": "code",
      "source": "# print('Hello World!')",
      "execution_count": 4,
      "outputs": []
    },
    {
      "metadata": {
        "trusted": false
      },
      "cell_type": "code",
      "source": "float(2)",
      "execution_count": 5,
      "outputs": [
        {
          "data": {
            "text/plain": "2.0"
          },
          "execution_count": 5,
          "metadata": {},
          "output_type": "execute_result"
        }
      ]
    },
    {
      "metadata": {
        "trusted": false
      },
      "cell_type": "code",
      "source": "int('1')",
      "execution_count": 7,
      "outputs": [
        {
          "data": {
            "text/plain": "1"
          },
          "execution_count": 7,
          "metadata": {},
          "output_type": "execute_result"
        }
      ]
    },
    {
      "metadata": {
        "trusted": false
      },
      "cell_type": "code",
      "source": "int('A')",
      "execution_count": 8,
      "outputs": [
        {
          "ename": "ValueError",
          "evalue": "invalid literal for int() with base 10: 'A'",
          "output_type": "error",
          "traceback": [
            "\u001b[0;31m---------------------------------------------------------------------------\u001b[0m",
            "\u001b[0;31mValueError\u001b[0m                                Traceback (most recent call last)",
            "\u001b[0;32m<ipython-input-8-58e5992d18f7>\u001b[0m in \u001b[0;36m<module>\u001b[0;34m\u001b[0m\n\u001b[0;32m----> 1\u001b[0;31m \u001b[0mint\u001b[0m\u001b[0;34m(\u001b[0m\u001b[0;34m'A'\u001b[0m\u001b[0;34m)\u001b[0m\u001b[0;34m\u001b[0m\u001b[0;34m\u001b[0m\u001b[0m\n\u001b[0m",
            "\u001b[0;31mValueError\u001b[0m: invalid literal for int() with base 10: 'A'"
          ]
        }
      ]
    },
    {
      "metadata": {
        "trusted": false
      },
      "cell_type": "code",
      "source": "str(1)",
      "execution_count": 9,
      "outputs": [
        {
          "data": {
            "text/plain": "'1'"
          },
          "execution_count": 9,
          "metadata": {},
          "output_type": "execute_result"
        }
      ]
    },
    {
      "metadata": {
        "trusted": false
      },
      "cell_type": "code",
      "source": "str(1)",
      "execution_count": 10,
      "outputs": [
        {
          "data": {
            "text/plain": "'1'"
          },
          "execution_count": 10,
          "metadata": {},
          "output_type": "execute_result"
        }
      ]
    },
    {
      "metadata": {
        "trusted": false
      },
      "cell_type": "code",
      "source": "type(True)",
      "execution_count": 11,
      "outputs": [
        {
          "data": {
            "text/plain": "bool"
          },
          "execution_count": 11,
          "metadata": {},
          "output_type": "execute_result"
        }
      ]
    },
    {
      "metadata": {
        "trusted": false
      },
      "cell_type": "code",
      "source": "bool(1)",
      "execution_count": 12,
      "outputs": [
        {
          "data": {
            "text/plain": "True"
          },
          "execution_count": 12,
          "metadata": {},
          "output_type": "execute_result"
        }
      ]
    },
    {
      "metadata": {
        "trusted": false
      },
      "cell_type": "code",
      "source": "",
      "execution_count": null,
      "outputs": []
    }
  ],
  "metadata": {
    "kernelspec": {
      "name": "python3",
      "display_name": "Python 3",
      "language": "python"
    },
    "language_info": {
      "mimetype": "text/x-python",
      "nbconvert_exporter": "python",
      "name": "python",
      "pygments_lexer": "ipython3",
      "version": "3.5.4",
      "file_extension": ".py",
      "codemirror_mode": {
        "version": 3,
        "name": "ipython"
      }
    }
  },
  "nbformat": 4,
  "nbformat_minor": 2
}