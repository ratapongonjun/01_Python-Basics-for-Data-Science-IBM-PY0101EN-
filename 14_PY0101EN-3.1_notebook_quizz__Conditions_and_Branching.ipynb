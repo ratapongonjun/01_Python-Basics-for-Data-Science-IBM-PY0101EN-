{
  "cells": [
    {
      "metadata": {},
      "cell_type": "markdown",
      "source": "<h3 align=center>Comparison operations</h3> "
    },
    {
      "metadata": {},
      "cell_type": "markdown",
      "source": "Find the value of <code>i</code> that produces a <code>True</code> "
    },
    {
      "metadata": {
        "trusted": true
      },
      "cell_type": "code",
      "source": "i=101\ni>100",
      "execution_count": 1,
      "outputs": [
        {
          "output_type": "execute_result",
          "execution_count": 1,
          "data": {
            "text/plain": "True"
          },
          "metadata": {}
        }
      ]
    },
    {
      "metadata": {},
      "cell_type": "markdown",
      "source": "<h3 align=center>Branching </h3> "
    },
    {
      "metadata": {},
      "cell_type": "markdown",
      "source": "Find the value of <code>x</code> that prints the statement: <code>\"this is a\"</code>"
    },
    {
      "metadata": {
        "trusted": true
      },
      "cell_type": "code",
      "source": "x='a'\nif(x=='a'):\n    print(\"this is a\")\nelse:\n    print(\"this is not a\")",
      "execution_count": 2,
      "outputs": [
        {
          "output_type": "stream",
          "text": "this is a\n",
          "name": "stdout"
        }
      ]
    },
    {
      "metadata": {},
      "cell_type": "markdown",
      "source": "<h3 align=center>Logic Operators</h3> "
    },
    {
      "metadata": {},
      "cell_type": "markdown",
      "source": "find the value of <code>y</code> that produces a <code>True</code> statement "
    },
    {
      "metadata": {
        "trusted": true
      },
      "cell_type": "code",
      "source": "y=9\nx=1\nx>0 and y<10",
      "execution_count": 3,
      "outputs": [
        {
          "output_type": "execute_result",
          "execution_count": 3,
          "data": {
            "text/plain": "True"
          },
          "metadata": {}
        }
      ]
    },
    {
      "metadata": {},
      "cell_type": "markdown",
      "source": "<hr>\n<small>Copyright &copy; 2018 IBM Cognitive Class. This notebook and its source code are released under the terms of the [MIT License](https://cognitiveclass.ai/mit-license/).</small>"
    }
  ],
  "metadata": {
    "kernelspec": {
      "name": "python3",
      "display_name": "Python 3",
      "language": "python"
    },
    "language_info": {
      "mimetype": "text/x-python",
      "nbconvert_exporter": "python",
      "name": "python",
      "file_extension": ".py",
      "version": "3.5.4",
      "pygments_lexer": "ipython3",
      "codemirror_mode": {
        "version": 3,
        "name": "ipython"
      }
    }
  },
  "nbformat": 4,
  "nbformat_minor": 2
}