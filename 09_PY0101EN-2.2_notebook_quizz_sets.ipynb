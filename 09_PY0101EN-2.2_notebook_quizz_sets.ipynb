{
  "cells": [
    {
      "metadata": {},
      "cell_type": "markdown",
      "source": "<h3 align=center>List to Set </h3>"
    },
    {
      "metadata": {},
      "cell_type": "markdown",
      "source": "Cast the following list to a set:"
    },
    {
      "metadata": {
        "trusted": true
      },
      "cell_type": "code",
      "source": "set(['A','B','C','A','B','C'])",
      "execution_count": 1,
      "outputs": [
        {
          "output_type": "execute_result",
          "execution_count": 1,
          "data": {
            "text/plain": "{'A', 'B', 'C'}"
          },
          "metadata": {}
        }
      ]
    },
    {
      "metadata": {},
      "cell_type": "markdown",
      "source": "<h3 align=center>Add an Element to the Set</h3> "
    },
    {
      "metadata": {},
      "cell_type": "markdown",
      "source": "Add the string  <code>'D'</code> to the set S"
    },
    {
      "metadata": {
        "trusted": true
      },
      "cell_type": "code",
      "source": "S={'A','B','C'}\nS.add('D')\nS",
      "execution_count": 2,
      "outputs": [
        {
          "output_type": "execute_result",
          "execution_count": 2,
          "data": {
            "text/plain": "{'A', 'B', 'C', 'D'}"
          },
          "metadata": {}
        }
      ]
    },
    {
      "metadata": {},
      "cell_type": "markdown",
      "source": "<h3 align=center>Intersection</h3> "
    },
    {
      "metadata": {},
      "cell_type": "markdown",
      "source": "Find the intersection of set <code>A</code> and <code>B</code>"
    },
    {
      "metadata": {
        "trusted": true
      },
      "cell_type": "code",
      "source": "A={1,2,3,4,5}\nB={1,3,9, 12}\nA & B",
      "execution_count": 3,
      "outputs": [
        {
          "output_type": "execute_result",
          "execution_count": 3,
          "data": {
            "text/plain": "{1, 3}"
          },
          "metadata": {}
        }
      ]
    },
    {
      "metadata": {},
      "cell_type": "markdown",
      "source": "<hr>\n<small>Copyright &copy; 2018 IBM Cognitive Class. This notebook and its source code are released under the terms of the [MIT License](https://cognitiveclass.ai/mit-license/).</small>"
    }
  ],
  "metadata": {
    "kernelspec": {
      "name": "python3",
      "display_name": "Python 3",
      "language": "python"
    },
    "language_info": {
      "mimetype": "text/x-python",
      "nbconvert_exporter": "python",
      "name": "python",
      "file_extension": ".py",
      "version": "3.5.4",
      "pygments_lexer": "ipython3",
      "codemirror_mode": {
        "version": 3,
        "name": "ipython"
      }
    }
  },
  "nbformat": 4,
  "nbformat_minor": 2
}